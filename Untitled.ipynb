{
 "cells": [
  {
   "cell_type": "code",
   "execution_count": 2,
   "id": "0a1960e4",
   "metadata": {},
   "outputs": [
    {
     "name": "stdout",
     "output_type": "stream",
     "text": [
      "Collecting librosa\n",
      "  Downloading librosa-0.10.1-py3-none-any.whl.metadata (8.3 kB)\n",
      "Collecting audioread>=2.1.9 (from librosa)\n",
      "  Downloading audioread-3.0.1-py3-none-any.whl.metadata (8.4 kB)\n",
      "Requirement already satisfied: numpy!=1.22.0,!=1.22.1,!=1.22.2,>=1.20.3 in c:\\users\\shubhrika\\anaconda3\\lib\\site-packages (from librosa) (1.21.5)\n",
      "Requirement already satisfied: scipy>=1.2.0 in c:\\users\\shubhrika\\anaconda3\\lib\\site-packages (from librosa) (1.9.1)\n",
      "Requirement already satisfied: scikit-learn>=0.20.0 in c:\\users\\shubhrika\\anaconda3\\lib\\site-packages (from librosa) (1.0.2)\n",
      "Requirement already satisfied: joblib>=0.14 in c:\\users\\shubhrika\\anaconda3\\lib\\site-packages (from librosa) (1.2.0)\n",
      "Requirement already satisfied: decorator>=4.3.0 in c:\\users\\shubhrika\\anaconda3\\lib\\site-packages (from librosa) (5.1.1)\n",
      "Requirement already satisfied: numba>=0.51.0 in c:\\users\\shubhrika\\anaconda3\\lib\\site-packages (from librosa) (0.55.1)\n",
      "Collecting soundfile>=0.12.1 (from librosa)\n",
      "  Downloading soundfile-0.12.1-py2.py3-none-win_amd64.whl (1.0 MB)\n",
      "     ---------------------------------------- 1.0/1.0 MB 5.3 MB/s eta 0:00:00\n",
      "Collecting pooch>=1.0 (from librosa)\n",
      "  Downloading pooch-1.8.0-py3-none-any.whl.metadata (9.9 kB)\n",
      "Collecting soxr>=0.3.2 (from librosa)\n",
      "  Downloading soxr-0.3.7-cp39-cp39-win_amd64.whl.metadata (5.7 kB)\n",
      "Requirement already satisfied: typing-extensions>=4.1.1 in c:\\users\\shubhrika\\anaconda3\\lib\\site-packages (from librosa) (4.3.0)\n",
      "Collecting lazy-loader>=0.1 (from librosa)\n",
      "  Downloading lazy_loader-0.3-py3-none-any.whl.metadata (4.3 kB)\n",
      "Requirement already satisfied: msgpack>=1.0 in c:\\users\\shubhrika\\anaconda3\\lib\\site-packages (from librosa) (1.0.3)\n",
      "Requirement already satisfied: llvmlite<0.39,>=0.38.0rc1 in c:\\users\\shubhrika\\anaconda3\\lib\\site-packages (from numba>=0.51.0->librosa) (0.38.0)\n",
      "Requirement already satisfied: setuptools in c:\\users\\shubhrika\\anaconda3\\lib\\site-packages (from numba>=0.51.0->librosa) (68.0.0)\n",
      "Requirement already satisfied: platformdirs>=2.5.0 in c:\\users\\shubhrika\\anaconda3\\lib\\site-packages (from pooch>=1.0->librosa) (3.10.0)\n",
      "Requirement already satisfied: packaging>=20.0 in c:\\users\\shubhrika\\anaconda3\\lib\\site-packages (from pooch>=1.0->librosa) (23.1)\n",
      "Requirement already satisfied: requests>=2.19.0 in c:\\users\\shubhrika\\anaconda3\\lib\\site-packages (from pooch>=1.0->librosa) (2.31.0)\n",
      "Requirement already satisfied: threadpoolctl>=2.0.0 in c:\\users\\shubhrika\\anaconda3\\lib\\site-packages (from scikit-learn>=0.20.0->librosa) (2.2.0)\n",
      "Requirement already satisfied: cffi>=1.0 in c:\\users\\shubhrika\\anaconda3\\lib\\site-packages (from soundfile>=0.12.1->librosa) (1.16.0)\n",
      "Requirement already satisfied: pycparser in c:\\users\\shubhrika\\anaconda3\\lib\\site-packages (from cffi>=1.0->soundfile>=0.12.1->librosa) (2.21)\n",
      "Requirement already satisfied: charset-normalizer<4,>=2 in c:\\users\\shubhrika\\anaconda3\\lib\\site-packages (from requests>=2.19.0->pooch>=1.0->librosa) (2.0.4)\n",
      "Requirement already satisfied: idna<4,>=2.5 in c:\\users\\shubhrika\\anaconda3\\lib\\site-packages (from requests>=2.19.0->pooch>=1.0->librosa) (3.4)\n",
      "Requirement already satisfied: urllib3<3,>=1.21.1 in c:\\users\\shubhrika\\anaconda3\\lib\\site-packages (from requests>=2.19.0->pooch>=1.0->librosa) (1.26.18)\n",
      "Requirement already satisfied: certifi>=2017.4.17 in c:\\users\\shubhrika\\anaconda3\\lib\\site-packages (from requests>=2.19.0->pooch>=1.0->librosa) (2023.11.17)\n",
      "Downloading librosa-0.10.1-py3-none-any.whl (253 kB)\n",
      "   --------------------------------------- 253.7/253.7 kB 15.2 MB/s eta 0:00:00\n",
      "Downloading audioread-3.0.1-py3-none-any.whl (23 kB)\n",
      "Downloading lazy_loader-0.3-py3-none-any.whl (9.1 kB)\n",
      "Downloading pooch-1.8.0-py3-none-any.whl (62 kB)\n",
      "   ---------------------------------------- 62.7/62.7 kB 3.5 MB/s eta 0:00:00\n",
      "Downloading soxr-0.3.7-cp39-cp39-win_amd64.whl (184 kB)\n",
      "   ---------------------------------------- 184.8/184.8 kB ? eta 0:00:00\n",
      "Installing collected packages: soxr, lazy-loader, audioread, soundfile, pooch, librosa\n",
      "Successfully installed audioread-3.0.1 lazy-loader-0.3 librosa-0.10.1 pooch-1.8.0 soundfile-0.12.1 soxr-0.3.7\n",
      "Note: you may need to restart the kernel to use updated packages.\n"
     ]
    },
    {
     "name": "stderr",
     "output_type": "stream",
     "text": [
      "WARNING: Ignoring invalid distribution -rotobuf (c:\\users\\shubhrika\\anaconda3\\lib\\site-packages)\n",
      "WARNING: Ignoring invalid distribution -rotobuf (c:\\users\\shubhrika\\anaconda3\\lib\\site-packages)\n"
     ]
    }
   ],
   "source": [
    "pip install librosa --user"
   ]
  },
  {
   "cell_type": "code",
   "execution_count": 1,
   "id": "1ac4497f",
   "metadata": {},
   "outputs": [],
   "source": [
    "#libaries \n",
    "\n",
    "import os\n",
    "import numpy as np\n",
    "import librosa\n",
    "import torch\n",
    "import torch.nn as nn\n",
    "import torch.optim as optim\n",
    "from torch.utils.data import Dataset, DataLoader\n",
    "from sklearn.model_selection import train_test_split"
   ]
  },
  {
   "cell_type": "code",
   "execution_count": 2,
   "id": "feb459d5",
   "metadata": {},
   "outputs": [],
   "source": [
    "# Step 2: Load and Prepare the Dataset\n",
    "class AudioDataset(Dataset):\n",
    "    def __init__(self, clean_paths, noisy_paths, fixed_length):\n",
    "        self.clean_paths = clean_paths\n",
    "        self.noisy_paths = noisy_paths\n",
    "        self.fixed_length = fixed_length\n",
    "\n",
    "    def __len__(self):\n",
    "        return len(self.clean_paths)\n",
    "\n",
    "    def __getitem__(self, idx):\n",
    "        clean_audio, _ = librosa.load(self.clean_paths[idx], sr=16000)\n",
    "        noisy_audio, _ = librosa.load(self.noisy_paths[idx], sr=16000)\n",
    "\n",
    "        # Adjust the length to the fixed size\n",
    "        if len(clean_audio) > self.fixed_length:\n",
    "            clean_audio = clean_audio[:self.fixed_length]\n",
    "        else:\n",
    "            clean_audio = np.pad(clean_audio, (0, self.fixed_length - len(clean_audio)))\n",
    "\n",
    "        if len(noisy_audio) > self.fixed_length:\n",
    "            noisy_audio = noisy_audio[:self.fixed_length]\n",
    "        else:\n",
    "            noisy_audio = np.pad(noisy_audio, (0, self.fixed_length - len(noisy_audio)))\n",
    "\n",
    "        return torch.from_numpy(clean_audio).float(), torch.from_numpy(noisy_audio).float()\n"
   ]
  },
  {
   "cell_type": "code",
   "execution_count": null,
   "id": "585f7dfd",
   "metadata": {},
   "outputs": [],
   "source": [
    "import os\n",
    "import glob\n",
    "\n",
    "# Function to get all audio file paths from a folder\n",
    "def get_audio_files(folder_path):\n",
    "    audio_files = glob.glob(os.path.join(folder_path, '*.wav'))\n",
    "    return audio_files\n",
    "\n",
    "# Example usage:\n",
    "clean_folder = \"path/to/clean/........\"\n",
    "noisy_folder = \"path/to/noisy/........\"\n",
    "\n",
    "clean_paths = get_audio_files(clean_folder)\n",
    "noisy_paths = get_audio_files(noisy_folder)\n",
    "\n",
    "fixed_length = 16000  # Set your desired fixed length\n",
    "dataset = AudioDataset(clean_paths, noisy_paths, fixed_length)\n",
    "\n",
    "# Split the dataset into train, validation, and test sets\n",
    "train_ratio = 0.8\n",
    "validation_ratio = 0.1\n",
    "test_ratio = 0.1\n",
    "\n",
    "train_size = int(train_ratio * len(dataset))\n",
    "validation_size = int(validation_ratio * len(dataset))\n",
    "test_size = len(dataset) - train_size - validation_size\n",
    "\n",
    "train_dataset, validation_dataset, test_dataset = torch.utils.data.random_split(dataset, [train_size, validation_size, test_size])\n"
   ]
  },
  {
   "cell_type": "code",
   "execution_count": null,
   "id": "b79d9c03",
   "metadata": {},
   "outputs": [],
   "source": []
  }
 ],
 "metadata": {
  "kernelspec": {
   "display_name": "Python 3 (ipykernel)",
   "language": "python",
   "name": "python3"
  },
  "language_info": {
   "codemirror_mode": {
    "name": "ipython",
    "version": 3
   },
   "file_extension": ".py",
   "mimetype": "text/x-python",
   "name": "python",
   "nbconvert_exporter": "python",
   "pygments_lexer": "ipython3",
   "version": "3.9.18"
  }
 },
 "nbformat": 4,
 "nbformat_minor": 5
}
